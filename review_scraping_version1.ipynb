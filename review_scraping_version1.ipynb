{
 "cells": [
  {
   "cell_type": "code",
   "execution_count": 1,
   "metadata": {},
   "outputs": [],
   "source": [
    "import pandas as pd\n",
    "import requests\n",
    "from pprint import pprint\n",
    "import datetime"
   ]
  },
  {
   "cell_type": "code",
   "execution_count": 2,
   "metadata": {},
   "outputs": [
    {
     "name": "stdout",
     "output_type": "stream",
     "text": [
      "0 1 2 3 4 5 6 7 8 9 10 11 12 13 14 15 16 17 18 19 20 21 22 23 24 25 26 27 28 29 30 31 32 33 34 35 36 37 38 39 40 41 42 43 44 45 46 47 48 49 50 51 52 53 "
     ]
    }
   ],
   "source": [
    "appid = 24780  \n",
    "\n",
    "# Open a file to write the scraped data\n",
    "with open(\"reviews_simcity4_extended.csv\", \"w+\", encoding='utf-8') as fo:\n",
    "    # Write the header for the CSV file\n",
    "    print(\"review,author_vote,other_votes,weighted_vote_score,votes_funny,comment_count,timestamp_created,playtime_at_review\", file=fo)\n",
    "\n",
    "    cursor = '*'  # Start with the initial cursor\n",
    "    base_url = f'https://store.steampowered.com/appreviews/{appid}'\n",
    "\n",
    "    curr_page = 0 # Initialize the current page counter\n",
    "    while True:\n",
    "        # Set the parameters for the API request\n",
    "        params = { # https://partner.steamgames.com/doc/store/getreviews\n",
    "            'json' : 1,\n",
    "            'filter' : 'all', # sort by: recent, updated, all (helpfulness)\n",
    "            'language' : 'english', # https://partner.steamgames.com/doc/store/localization # Onlu fetch reviews in English\n",
    "            'day_range' : 9223372036854775807, # shows reviews from all time \n",
    "            'review_type' : 'all', # include all reviews (positive and negative)\n",
    "            'purchase_type' : 'all', # all, non_steam_purchase, steam\n",
    "            'num_per_page' : 100, # Number of reviews per page\n",
    "            'cursor': cursor,  # Use the cursor returned from the last request\n",
    "        }\n",
    "        response = requests.get(base_url, params=params) #Make the API request\n",
    "        data = response.json() # Parse the JSON response\n",
    "\n",
    "        print(curr_page, end=\" \") # Print the current page number\n",
    "        curr_page += 1 # Increment the current page counter\n",
    "\n",
    "        # Break the loop if there are no more reviews\n",
    "        if 'reviews' in data and not data['reviews']:\n",
    "            break\n",
    "        \n",
    "        page_list = data['reviews'] # Get the list of reviews from the response\n",
    "\n",
    "        for i, page in enumerate(page_list):\n",
    "            words =  page[\"review\"].split() # Split the review text into words\n",
    "\n",
    "            if len(words) < 30: \n",
    "                continue # Skip reviews with less than 30 words\n",
    "            \n",
    "            # Prepare the review text for CSV\n",
    "            rev = '\"' + page[\"review\"].replace('\"',\"\") + '\"'\n",
    "            author_vote = 1 if page['voted_up'] else 0 # Convert voted_up to binary\n",
    "            other_votes = page['votes_up']\n",
    "            weighted_vote_score = page[\"weighted_vote_score\"] \n",
    "            votes_funny = page[\"votes_funny\"] # Get votes_funny or default to 0\n",
    "            comment_count = page[\"comment_count\"] # Get comment_count or default to 0\n",
    "            timestamp_created = datetime.datetime.fromtimestamp(page[\"timestamp_created\"]).strftime('%Y-%m-%d %H:%M:%S') # Convert timestamp to human-readable format\n",
    "            playtime_at_review = page[\"author\"].get(\"playtime_at_review\", 0) #Get playtime_at_review or default to 0\n",
    "\n",
    "            # Write the extracted data to the CSV file\n",
    "            print(rev, ',', author_vote, ',', other_votes, ',', weighted_vote_score, ',', votes_funny, ',', comment_count, ',', timestamp_created, ',', playtime_at_review, file=fo)\n",
    "\n",
    "        # Update the cursor for the next API request\n",
    "        cursor = data['cursor']"
   ]
  },
  {
   "cell_type": "code",
   "execution_count": 3,
   "metadata": {},
   "outputs": [],
   "source": [
    "def sentiment_analysis(rev_text):\n",
    "    # Add your sentiment analysis implementation here\n",
    "    neg, neut, pos = 0, 0, 0  # Placeholder values\n",
    "    return neg, neut, pos"
   ]
  },
  {
   "cell_type": "code",
   "execution_count": 4,
   "metadata": {},
   "outputs": [
    {
     "ename": "TypeError",
     "evalue": "string indices must be integers, not 'str'",
     "output_type": "error",
     "traceback": [
      "\u001b[0;31m---------------------------------------------------------------------------\u001b[0m",
      "\u001b[0;31mTypeError\u001b[0m                                 Traceback (most recent call last)",
      "Cell \u001b[0;32mIn[4], line 3\u001b[0m\n\u001b[1;32m      1\u001b[0m \u001b[38;5;66;03m# Example for using the sentiment analysis function\u001b[39;00m\n\u001b[1;32m      2\u001b[0m \u001b[38;5;28;01mfor\u001b[39;00m rev \u001b[38;5;129;01min\u001b[39;00m page:\n\u001b[0;32m----> 3\u001b[0m      rev_text \u001b[38;5;241m=\u001b[39m \u001b[43mrev\u001b[49m\u001b[43m[\u001b[49m\u001b[38;5;124;43m\"\u001b[39;49m\u001b[38;5;124;43mreview\u001b[39;49m\u001b[38;5;124;43m\"\u001b[39;49m\u001b[43m]\u001b[49m\n\u001b[1;32m      4\u001b[0m      voted_up \u001b[38;5;241m=\u001b[39m rev[\u001b[38;5;124m\"\u001b[39m\u001b[38;5;124mvoted_up\u001b[39m\u001b[38;5;124m\"\u001b[39m]\n\u001b[1;32m      5\u001b[0m      \u001b[38;5;66;03m#print(rev_text, voted_up)\u001b[39;00m\n\u001b[1;32m      6\u001b[0m      \u001b[38;5;66;03m#print(\"\\n\\n\")\u001b[39;00m\n",
      "\u001b[0;31mTypeError\u001b[0m: string indices must be integers, not 'str'"
     ]
    }
   ],
   "source": [
    "# Example for using the sentiment analysis function\n",
    "for rev in page:\n",
    "     rev_text = rev[\"review\"]\n",
    "     voted_up = rev[\"voted_up\"]\n",
    "     #print(rev_text, voted_up)\n",
    "     #print(\"\\n\\n\")\n",
    "\n",
    "     neg, net, pos = sentiment_analysis(rev_text)\n",
    "     print(neg, neut, pos, vote_up)"
   ]
  },
  {
   "cell_type": "code",
   "execution_count": null,
   "metadata": {},
   "outputs": [],
   "source": [
    "%pip install Textblob"
   ]
  }
 ],
 "metadata": {
  "kernelspec": {
   "display_name": "Python 3",
   "language": "python",
   "name": "python3"
  },
  "language_info": {
   "codemirror_mode": {
    "name": "ipython",
    "version": 3
   },
   "file_extension": ".py",
   "mimetype": "text/x-python",
   "name": "python",
   "nbconvert_exporter": "python",
   "pygments_lexer": "ipython3",
   "version": "3.12.1"
  }
 },
 "nbformat": 4,
 "nbformat_minor": 2
}
